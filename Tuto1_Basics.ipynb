{
 "cells": [
  {
   "cell_type": "markdown",
   "metadata": {},
   "source": [
    "# __Tutorial 1 : Basics__"
   ]
  },
  {
   "cell_type": "markdown",
   "metadata": {},
   "source": [
    "__Discrete Fracture Networks__ are computational models explicitly representing the geometry of fractures in a network, and can be used as a basis for physical simulations (mechanical strength, flow, transport...)"
   ]
  },
  {
   "cell_type": "markdown",
   "metadata": {},
   "source": [
    "In this tutorial, we will explain the basics of __DFN.Lab__, focusing on the main features.\n",
    "<br>\n",
    "The __DFNBasis__ module is the central one. It defines general objects such as: \n",
    "- _Fractures_ : a planar object (disk or polygon) defined by a size, an orientation and a position\n",
    "- _Wells_ : a one dimensional object defined as a segment\n",
    "- _System_ : a polyhedron object defined by boundaries and _Wells_\n",
    "- _Discrete Fracture Network_ : a population of _Fractures_, contained in a _System_"
   ]
  },
  {
   "cell_type": "markdown",
   "metadata": {},
   "source": [
    "We will need the __DFNBasis__, __GeometryLib__ and __RandomGenerator__ modules\n",
    "<br>\n",
    "We need the __DFNIO__ module for visualization. \n",
    "<br>\n",
    "For rendering into the Jupyter Notebook, we use [_pyvista_](https://docs.pyvista.org).\n",
    "<br>\n",
    "![modules_dfnbasis](DFNBasis.jpg)\n"
   ]
  },
  {
   "cell_type": "code",
   "execution_count": 1,
   "metadata": {},
   "outputs": [],
   "source": [
    "import dfnlab.DFNBasis as dfn\n",
    "import dfnlab.GeometryLib as geom\n",
    "import dfnlab.DFNIO as dfn_io\n",
    "import pyvista as pv"
   ]
  },
  {
   "cell_type": "markdown",
   "metadata": {},
   "source": [
    "## How to create Fractures ?\n",
    "You can create a _Fracture_ as a disk\n"
   ]
  },
  {
   "cell_type": "code",
   "execution_count": 2,
   "metadata": {},
   "outputs": [
    {
     "name": "stdout",
     "output_type": "stream",
     "text": [
      "Fracture size is 2.0\n",
      "Fracture area is 3.141592653589793\n"
     ]
    }
   ],
   "source": [
    "fdisk1 = dfn.Fracture([0, 0, 0], 2.,45.,90.) # disk_center=[0,0,0], diameter=2, dip=45°, dip_direction=90°\n",
    "\n",
    "print(\"Fracture size is {}\".format(fdisk1.getSize()))\n",
    "print(\"Fracture area is {}\".format(fdisk1.getArea()))"
   ]
  },
  {
   "cell_type": "markdown",
   "metadata": {},
   "source": [
    "You can also define a _Fracture_ orientation from a normal vector"
   ]
  },
  {
   "cell_type": "code",
   "execution_count": 3,
   "metadata": {},
   "outputs": [],
   "source": [
    "normal = dfn.IFracture.orientations(30.,270.) # normal vector for a plane defined by dip=30° and dip_direction=270°\n",
    "fdisk2 = dfn.Fracture([0, 0, 0], 4.,normal)"
   ]
  },
  {
   "cell_type": "markdown",
   "metadata": {},
   "source": [
    "You can also create a _Fracture_ from a _Polygon_, defined as a set of points"
   ]
  },
  {
   "cell_type": "code",
   "execution_count": 4,
   "metadata": {},
   "outputs": [
    {
     "name": "stdout",
     "output_type": "stream",
     "text": [
      "Fracture size is 5.656854249492381\n",
      "Fracture area is 16.0\n"
     ]
    }
   ],
   "source": [
    "pol = geom.Polygon()\n",
    "pol.append([0, 0, 0])\n",
    "pol.append([4, 0, 0])\n",
    "pol.append([4, 4, 0])\n",
    "pol.append([0, 4, 0])\n",
    "fpol = dfn.Fracture(pol)\n",
    "\n",
    "print(\"Fracture size is {}\".format(fpol.getSize()))\n",
    "print(\"Fracture area is {}\".format(fpol.getArea()))"
   ]
  },
  {
   "cell_type": "markdown",
   "metadata": {},
   "source": [
    "## How to create a DFN from a fracture set ?\n",
    "\n",
    "We first define a _System_ as a box including a _Well_"
   ]
  },
  {
   "cell_type": "code",
   "execution_count": 5,
   "metadata": {},
   "outputs": [],
   "source": [
    "system = dfn.System()\n",
    "system.buildParallelepiped([0.,0.,0.],5.,5.,5.) # the system is a box of size lx=5, ly=5, lz=5, centered in [0,0,0]\n",
    "well = dfn.Well1D([0,0,-2.5], [0,0,2.5])\n",
    "system.addWellTunnel(well)"
   ]
  },
  {
   "cell_type": "markdown",
   "metadata": {},
   "source": [
    "A _DFN_ is defined as a population of _Fractures_ contained in a _System_."
   ]
  },
  {
   "cell_type": "code",
   "execution_count": 6,
   "metadata": {},
   "outputs": [
    {
     "name": "stdout",
     "output_type": "stream",
     "text": [
      "Number of fractures: 3\n",
      "Number of intersections between fractures: 3\n",
      "Number of intersections with wells: 3\n",
      "Total fracture surface per unit volume is: 0.17566370614359178\n"
     ]
    }
   ],
   "source": [
    "fnet = dfn.DFN(system)\n",
    "fnet.addFractures([fdisk1,fdisk2])\n",
    "fnet.addFracture(fpol)\n",
    "fnet.computeIntersections()\n",
    "\n",
    "print(\"Number of fractures: {}\".format(fnet.nbFractures()))\n",
    "print(\"Number of intersections between fractures: {}\".format(fnet.nbIntersections(0)))\n",
    "print(\"Number of intersections with wells: {}\".format(fnet.nbIntersections(1)))\n",
    "print(\"Total fracture surface per unit volume is: {}\".format(fnet.density()))"
   ]
  },
  {
   "cell_type": "markdown",
   "metadata": {},
   "source": [
    "## Visualization"
   ]
  },
  {
   "cell_type": "code",
   "execution_count": 7,
   "metadata": {},
   "outputs": [
    {
     "data": {
      "image/png": "[encoded data removed]",
      "text/plain": [
       "<PIL.Image.Image image mode=RGB size=1024x768 at 0x14FDD85CEF0>"
      ]
     },
     "metadata": {},
     "output_type": "display_data"
    }
   ],
   "source": [
    "dfn_io.write_DFN_file(fnet,'dfn.vtp')\n",
    "\n",
    "visu = pv.read('dfn.vtp')\n",
    "p = pv.Plotter(notebook=True)\n",
    "p.add_mesh(visu,show_scalar_bar=False)\n",
    "p.show(auto_close=False, use_panel=False)"
   ]
  }
 ],
 "metadata": {
  "kernelspec": {
   "display_name": "Python 3",
   "language": "python",
   "name": "python3"
  },
  "language_info": {
   "codemirror_mode": {
    "name": "ipython",
    "version": 3
   },
   "file_extension": ".py",
   "mimetype": "text/x-python",
   "name": "python",
   "nbconvert_exporter": "python",
   "pygments_lexer": "ipython3",
   "version": "3.7.2"
  }
 },
 "nbformat": 4,
 "nbformat_minor": 4
}
