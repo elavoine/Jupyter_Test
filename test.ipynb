{
 "cells": [
  {
   "cell_type": "markdown",
   "metadata": {},
   "source": [
    "# Tutorial 1: DFN Generation\n",
    "\n",
    "A Discrete Fracture Network is a simplified discrete representation of fractured media. In $D$-dimensions, fractures are represented as objects of dimension $D-1$.\n",
    "\n",
    "Natural fracture networks are found to follow power-law size distributions (ref):\n",
    "\n",
    "<center>\n",
    "$n(l)=\\alpha.l^{-a}$\n",
    "</center>\n",
    "\n",
    "So that the total number of fractures $N$ in the system of size $L$ and dimension $D$ can be written as:\n",
    "\n",
    "<center>\n",
    "$N=  \\int_{l_{min}}^{l_{max}} n(l).L^{D} \\, \\mathrm{d}l $\n",
    "</center>\n"
   ]
  },
  {
   "cell_type": "markdown",
   "metadata": {},
   "source": [
    "## Imports"
   ]
  },
  {
   "cell_type": "code",
   "execution_count": 1,
   "metadata": {},
   "outputs": [],
   "source": [
    "%matplotlib inline\n",
    "import sys\n",
    "import time\n",
    "import k3d\n",
    "import os\n",
    "import matplotlib.colors as colors\n",
    "import matplotlib.cm as cmx\n",
    "import matplotlib.pyplot as pyplot \n",
    "import matplotlib.colors\n",
    "import numpy as np\n",
    "import pylab as pylab\n",
    "import ipywidgets as widgets\n",
    "mypath = os.getcwd()\n",
    "\n",
    "import dfnlab.DFNBasis as dfnBasis\n",
    "import dfnlab.DFNGenerator as dfnGen\n",
    "import dfnlab.DFNAnalysis as dfnAnalysis\n",
    "import dfnlab.DFNIO as dfnIO"
   ]
  },
  {
   "cell_type": "markdown",
   "metadata": {},
   "source": [
    "## Plot function"
   ]
  },
  {
   "cell_type": "code",
   "execution_count": 2,
   "metadata": {},
   "outputs": [],
   "source": [
    "def plot_dfn(dfn,namedir,name):\n",
    "    \"\"\" plot a DFN within a jupyter notebook \n",
    "        as attr\n",
    "    \"\"\"\n",
    "    import dfnlab.DFNIO as dfnIO\n",
    "    import vtk\n",
    "    fout = os.path.join(namedir,'dfnvtkdata_{}.vtp'.format(name))\n",
    "    dfnIO.write_DFN_file(dfn,fout)\n",
    "    reader = vtk.vtkXMLPolyDataReader()\n",
    "    reader.SetFileName(fout)\n",
    "    reader.Update()\n",
    "    model_matrix = (\n",
    "         1.0,  0.0, 0.0, 0.0,\n",
    "         0.0,  0.0, 1.0, 0.0,\n",
    "         0.0,  1.0, 0.0, 0.0,\n",
    "         0.0,  0.0, 0.0, 1.0\n",
    "    )\n",
    "    plot = k3d.plot()\n",
    "    size = dfn.getSystem().getSize()\n",
    "    dfn3d = k3d.vtk_poly_data(reader.GetOutput(), color_attribute = ('FractureSize',0,size), color_map=k3d.basic_color_maps.Jet, model_matrix=model_matrix)\n",
    "    plot += dfn3d\n",
    "    plot.display()"
   ]
  },
  {
   "cell_type": "markdown",
   "metadata": {},
   "source": [
    "## Parameters "
   ]
  },
  {
   "cell_type": "code",
   "execution_count": 3,
   "metadata": {},
   "outputs": [],
   "source": [
    "a = 3\n",
    "L = 100\n",
    "lmin = 1\n",
    "lmax = 100\n",
    "p32 = 0.5"
   ]
  },
  {
   "cell_type": "code",
   "execution_count": 4,
   "metadata": {},
   "outputs": [
    {
     "data": {
      "application/vnd.jupyter.widget-view+json": {
       "model_id": "f45d9ab281794284bc303a92a9f3a18f",
       "version_major": 2,
       "version_minor": 0
      },
      "text/plain": [
       "Output()"
      ]
     },
     "metadata": {},
     "output_type": "display_data"
    }
   ],
   "source": [
    "system = dfnBasis.System()\n",
    "system.buildParallelepiped([0, 0, 0],L)\n",
    "fnet = dfnBasis.DFN(system)\n",
    "generator = dfnGen.PoissonGenerator(fnet, 1001)\n",
    "generator.setSizesPowerlaw(a,lmin,lmax)\n",
    "generator.setPositionsUniform()\n",
    "generator.setOrientationsUniform()\n",
    "generator.setStopDensity(p32)\n",
    "generator.generate()\n",
    "plot_dfn(fnet,mypath,'my_dfn')"
   ]
  },
  {
   "cell_type": "markdown",
   "metadata": {},
   "source": [
    "__Plot the size distribution__"
   ]
  },
  {
   "cell_type": "code",
   "execution_count": 5,
   "metadata": {},
   "outputs": [
    {
     "name": "stdout",
     "output_type": "stream",
     "text": [
      "N = 78712\n",
      "lmin = 1.0000116074775502\n",
      "lmax = 97.01934311622004\n",
      "alpha = 0.19296143006687716\n",
      "a = 3.1810883367448515\n"
     ]
    },
    {
     "data": {
      "image/png": "[encoded data removed]",
      "text/plain": [
       "<Figure size 432x288 with 1 Axes>"
      ]
     },
     "metadata": {
      "needs_background": "light"
     },
     "output_type": "display_data"
    }
   ],
   "source": [
    "def plot_size_distribution(size_distribution, figureName):\n",
    "    csfont = {'fontname':'Times New Roman'}\n",
    "    pyplot.rcParams['mathtext.fontset'] = 'dejavuserif'\n",
    "    fig = pyplot.figure()\n",
    "    ax = pyplot.axes()\n",
    "    ax.set_xscale(\"log\")\n",
    "    ax.set_yscale(\"log\")\n",
    "    l = np.array(size_distribution['Val'])\n",
    "    idx1 = [True if l[i]!=0 else False for i in range(0,len(l)) ]\n",
    "    nl = np.array(size_distribution['Pdf'])\n",
    "    idx2 = [True if nl[i]!=0 else False for i in range(0,len(nl)) ]\n",
    "    idx = idx1 and idx2\n",
    "    l = l[idx]\n",
    "    nl = nl[idx]\n",
    "    ax.plot(l,nl,marker='o',markersize=5, linewidth=0, color='k',label='DFN')\n",
    "\n",
    "    log_l = np.log10(l)\n",
    "    log_nl = np.log10(nl)\n",
    "    idx = np.isfinite(log_l) & np.isfinite(log_nl)\n",
    "    m, b = pylab.polyfit(log_l[idx],log_nl[idx],1)\n",
    "    a=-m\n",
    "    alpha = 10**b \n",
    "    print(\"alpha = {}\".format(alpha))\n",
    "    print(\"a = {}\".format(a))\n",
    "    fit = [alpha*pow(elt,-a) for elt in l]\n",
    "    lab = '~$'+\"{:.2e}\".format(alpha)+'*l^{-'+str(round(a,2))+'}$'\n",
    "    ax.plot(l,fit,marker='o', linestyle='dashed', markersize=0, linewidth=2, color='grey', label=lab)\n",
    "\n",
    "    pyplot.xlabel('Fracture size $l$',**csfont)\n",
    "    pyplot.ylabel('Fracture size distribution $n(l)$',**csfont)\n",
    "    pyplot.legend()\n",
    "    return fig\n",
    "    \n",
    "    \n",
    "analyser = dfnAnalysis.DFNAnalyser(fnet)\n",
    "nl = analyser.sizeDistribution(20); # number of bins\n",
    "print(\"N = {}\".format(fnet.nbFractures()))\n",
    "print(\"lmin = {}\".format(fnet.minFractureSize()))\n",
    "print(\"lmax = {}\".format(fnet.maxFractureSize()))\n",
    "fig = plot_size_distribution(nl, r'size_distribution.png')"
   ]
  },
  {
   "cell_type": "code",
   "execution_count": null,
   "metadata": {},
   "outputs": [],
   "source": []
  }
 ],
 "metadata": {
  "kernelspec": {
   "display_name": "Python 3",
   "language": "python",
   "name": "python3"
  },
  "language_info": {
   "codemirror_mode": {
    "name": "ipython",
    "version": 3
   },
   "file_extension": ".py",
   "mimetype": "text/x-python",
   "name": "python",
   "nbconvert_exporter": "python",
   "pygments_lexer": "ipython3",
   "version": "3.7.3"
  }
 },
 "nbformat": 4,
 "nbformat_minor": 2
}
