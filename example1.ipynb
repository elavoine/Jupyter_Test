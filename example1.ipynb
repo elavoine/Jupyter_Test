{
 "cells": [
  {
   "cell_type": "markdown",
   "metadata": {},
   "source": [
    "# Jupyter Notebook : a Swiss knife for research and teaching\n",
    "\n",
    "\n",
    "<div class=\"alert alert-block alert-success\" align=\"center\">\n",
    "<b><i>\"Project Jupyter exists to develop open-source software, open-standards, and services for interactive computing across dozens of programming languages.\"</i></b>\n",
    "</div>\n",
    "\n",
    "- __Notebook__ for nice presentation: useful for research and TEACHING\n",
    "- Code, data, explanations and visualizations are combined in one place\n",
    "- Can handle equations in LaTex style\n",
    "- Handle dozens of programming languages including _Python_, _Juila_, and _R_\n",
    "- _Jupyter Notebook_ is directly installed with __conda__ environment"
   ]
  },
  {
   "cell_type": "markdown",
   "metadata": {},
   "source": [
    "## Example 1 : DFN modelling\n",
    "\n",
    "A DFN (Discrete Fracture Network) is simplified discrete representation of fractured media. In $D$-dimensions, fractures are represented as objects of dimension $D-1$.\n",
    "\n",
    "Natural fracture networks are found to follow power-law size distributions (ref):\n",
    "\n",
    "<center>\n",
    "$n(l)=\\alpha.l^{-a}$\n",
    "</center>\n",
    "\n",
    "So that the total number of fractures $N$ in the system of size $L$ and dimension $D$ can be written as:\n",
    "\n",
    "<center>\n",
    "$N=  \\int_{l_{min}}^{l_{max}} n(l).L^{D} \\, \\mathrm{d}l $\n",
    "</center>\n",
    "\n",
    "__GENERATE YOU OWN DFN, PLAY WITH PARAMTERS__\n"
   ]
  },
  {
   "cell_type": "code",
   "execution_count": null,
   "metadata": {},
   "outputs": [],
   "source": [
    "%matplotlib inline\n",
    "import sys\n",
    "import time\n",
    "import k3d\n",
    "import os\n",
    "import matplotlib.colors as colors\n",
    "import matplotlib.cm as cmx\n",
    "import matplotlib.pyplot as pyplot \n",
    "import matplotlib.colors\n",
    "import numpy as np\n",
    "import pylab as pylab\n",
    "import ipywidgets as widgets\n",
    "mypath = os.getcwd()\n",
    "\n",
    "import dfnlab.DFNBasis as dfnBasis\n",
    "import dfnlab.DFNGenerator as dfnGen\n",
    "import dfnlab.DFNAnalysis as dfnAnalysis\n",
    "import dfnlab.DFNIO as dfnIO\n",
    "\n",
    "def plot_dfn(dfn,namedir,name):\n",
    "    \"\"\" plot a DFN within a jupyter notebook \n",
    "        as attr\n",
    "    \"\"\"\n",
    "    import dfnlab.DFNIO as dfnIO\n",
    "    import vtk\n",
    "    fout = os.path.join(namedir,'dfnvtkdata_{}.vtp'.format(name))\n",
    "    dfnIO.write_DFN_file(dfn,fout)\n",
    "    reader = vtk.vtkXMLPolyDataReader()\n",
    "    reader.SetFileName(fout)\n",
    "    reader.Update()\n",
    "    model_matrix = (\n",
    "         1.0,  0.0, 0.0, 0.0,\n",
    "         0.0,  0.0, 1.0, 0.0,\n",
    "         0.0,  1.0, 0.0, 0.0,\n",
    "         0.0,  0.0, 0.0, 1.0\n",
    "    )\n",
    "    plot = k3d.plot()\n",
    "    size = dfn.getSystem().getSize()\n",
    "    dfn3d = k3d.vtk_poly_data(reader.GetOutput(), color_attribute = ('FractureSize',0,size), color_map=k3d.basic_color_maps.Jet, model_matrix=model_matrix)\n",
    "    plot += dfn3d\n",
    "    plot.display()"
   ]
  },
  {
   "cell_type": "markdown",
   "metadata": {},
   "source": [
    "__Choose your parameters__"
   ]
  },
  {
   "cell_type": "code",
   "execution_count": null,
   "metadata": {},
   "outputs": [],
   "source": [
    "N_widget = widgets.Text(value='50000', disabled=False, description='N = ')\n",
    "display(N_widget)\n",
    "lmin_widget = widgets.Text(value='1', disabled=False, description='lmin = ')\n",
    "display(lmin_widget)\n",
    "lmax_widget = widgets.Text(value='100', disabled=False, description='lmax = ')\n",
    "display(lmax_widget)\n",
    "L_widget = widgets.Text(value='100', disabled=False, description='L = ')\n",
    "display(L_widget)\n",
    "a_slider = widgets.FloatSlider(value=3.0,min=0.1,max=5.0,step=0.1,description='a = ')\n",
    "display(a_slider)"
   ]
  },
  {
   "cell_type": "code",
   "execution_count": null,
   "metadata": {},
   "outputs": [],
   "source": [
    "a = a_slider.value\n",
    "N = int(N_widget.value)\n",
    "lmin = float(lmin_widget.value)\n",
    "lmax = float(lmax_widget.value)\n",
    "L = float(L_widget.value)\n",
    "\n",
    "system = dfnBasis.System()\n",
    "system.buildParallelepiped([0, 0, 0],L)\n",
    "fnet = dfnBasis.DFN(system)\n",
    "generator = dfnGen.PoissonGenerator(fnet, 1001)\n",
    "generator.setSizesPowerlaw(a,lmin,lmax)\n",
    "generator.setPositionsUniform()\n",
    "generator.setOrientationsUniform()\n",
    "generator.setStopNumber(N)\n",
    "generator.generate()\n",
    "plot_dfn(fnet,mypath,'my_dfn')"
   ]
  },
  {
   "cell_type": "markdown",
   "metadata": {},
   "source": [
    "__Plot the size distribution__"
   ]
  },
  {
   "cell_type": "code",
   "execution_count": null,
   "metadata": {},
   "outputs": [],
   "source": [
    "def plot_size_distribution(size_distribution, figureName):\n",
    "    csfont = {'fontname':'Times New Roman'}\n",
    "    pyplot.rcParams['mathtext.fontset'] = 'dejavuserif'\n",
    "    fig = pyplot.figure()\n",
    "    ax = pyplot.axes()\n",
    "    ax.set_xscale(\"log\")\n",
    "    ax.set_yscale(\"log\")\n",
    "    l = np.array(size_distribution['Val'])\n",
    "    idx1 = [True if l[i]!=0 else False for i in range(0,len(l)) ]\n",
    "    nl = np.array(size_distribution['Pdf'])\n",
    "    idx2 = [True if nl[i]!=0 else False for i in range(0,len(nl)) ]\n",
    "    idx = idx1 and idx2\n",
    "    l = l[idx]\n",
    "    nl = nl[idx]\n",
    "    ax.plot(l,nl,marker='o',markersize=5, linewidth=0, color='k',label='DFN')\n",
    "\n",
    "    log_l = np.log10(l)\n",
    "    log_nl = np.log10(nl)\n",
    "    idx = np.isfinite(log_l) & np.isfinite(log_nl)\n",
    "    m, b = pylab.polyfit(log_l[idx],log_nl[idx],1)\n",
    "    a=-m\n",
    "    alpha = 10**b \n",
    "    print(\"alpha = {}\".format(alpha))\n",
    "    print(\"a = {}\".format(a))\n",
    "    fit = [alpha*pow(elt,-a) for elt in l]\n",
    "    lab = '~$'+\"{:.2e}\".format(alpha)+'*l^{-'+str(round(a,2))+'}$'\n",
    "    ax.plot(l,fit,marker='o', linestyle='dashed', markersize=0, linewidth=2, color='grey', label=lab)\n",
    "\n",
    "    pyplot.xlabel('Fracture size $l$',**csfont)\n",
    "    pyplot.ylabel('Fracture size distribution $n(l)$',**csfont)\n",
    "    pyplot.legend()\n",
    "    return fig\n",
    "    \n",
    "    \n",
    "analyser = dfnAnalysis.DFNAnalyser(fnet)\n",
    "nl = analyser.sizeDistribution(20); # number of bins\n",
    "print(\"N = {}\".format(fnet.nbFractures()))\n",
    "print(\"lmin = {}\".format(fnet.minFractureSize()))\n",
    "print(\"lmax = {}\".format(fnet.maxFractureSize()))\n",
    "fig = plot_size_distribution(nl, r'size_distribution.png')"
   ]
  },
  {
   "cell_type": "code",
   "execution_count": 6,
   "metadata": {},
   "outputs": [
    {
     "name": "stderr",
     "output_type": "stream",
     "text": [
      "C:\\Users\\Etudiant\\Anaconda3\\lib\\site-packages\\distributed\\config.py:20: YAMLLoadWarning: calling yaml.load() without Loader=... is deprecated, as the default Loader is unsafe. Please read https://msg.pyyaml.org/load for full details.\n",
      "  defaults = yaml.load(f)\n"
     ]
    }
   ],
   "source": [
    "import ee\n",
    "import ipyleaflet\n",
    "# Initialize ee with access token\n",
    "ee.Initialize()"
   ]
  },
  {
   "cell_type": "code",
   "execution_count": null,
   "metadata": {},
   "outputs": [],
   "source": [
    "\n",
    "def GetTileLayerUrl(ee_image_object):\n",
    "  map_id = ee.Image(ee_image_object).getMapId()\n",
    "  tile_url_template = \"https://earthengine.googleapis.com/map/{mapid}/{{z}}/{{x}}/{{y}}?token={token}\"\n",
    "  return tile_url_template.format(**map_id)\n",
    "\n",
    "\n",
    "s2 = ee.ImageCollection('COPERNICUS/S2').filterDate('2018-01-01', '2018-01-02')\n",
    "\n",
    "map1 = ipyleaflet.Map(\n",
    "    center=(48.2082, 16.3779), zoom=4,\n",
    "    layout={'height':'400px'}\n",
    ")\n",
    "map1.add_layer(\n",
    "    ipyleaflet.TileLayer(url=GetTileLayerUrl(\n",
    "        s2.mosaic().visualize(min=0, max=3000, gamma=1.5, bands= ['B4', 'B3', 'B2'])\n",
    "    )\n",
    "))\n",
    "map1"
   ]
  },
  {
   "cell_type": "code",
   "execution_count": 4,
   "metadata": {},
   "outputs": [
    {
     "name": "stdout",
     "output_type": "stream",
     "text": [
      "Number of images in Time Set:  67183\n",
      "Number of images in Space Set:  322\n"
     ]
    }
   ],
   "source": [
    "lat = 45\n",
    "lon = -100\n",
    "Radius = 1000\n",
    "\n",
    "roi = ee.Geometry.Point([lat, lon]).buffer(Radius)\n",
    "point = ee.Geometry.Point (lon, lat)\n",
    "start = ee.Date('2017-01-01')\n",
    "finish = ee.Date('2018-12-01')\n",
    "L8 = ee.ImageCollection(\"LANDSAT/LC08/C01/T1\")\n",
    "\n",
    "Time_Set = ee.ImageCollection(\n",
    "  L8.filterDate(start, finish)\n",
    "    .filter(ee.Filter.lt('CLOUD_COVER', 2))\n",
    ")\n",
    "print('Number of images in Time Set: ', Time_Set.size().getInfo())\n",
    "\n",
    "Space_Set = ee.ImageCollection(\n",
    "    L8.filterBounds(ee.Geometry.Point(lon, lat))\n",
    ")\n",
    "\n",
    "print('Number of images in Space Set: ', Space_Set.size().getInfo())"
   ]
  },
  {
   "cell_type": "code",
   "execution_count": null,
   "metadata": {},
   "outputs": [],
   "source": []
  }
 ],
 "metadata": {
  "kernelspec": {
   "display_name": "Python 3",
   "language": "python",
   "name": "python3"
  },
  "language_info": {
   "codemirror_mode": {
    "name": "ipython",
    "version": 3
   },
   "file_extension": ".py",
   "mimetype": "text/x-python",
   "name": "python",
   "nbconvert_exporter": "python",
   "pygments_lexer": "ipython3",
   "version": "3.7.3"
  }
 },
 "nbformat": 4,
 "nbformat_minor": 2
}
